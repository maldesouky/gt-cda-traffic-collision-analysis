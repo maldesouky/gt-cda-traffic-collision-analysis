{
 "cells": [
  {
   "cell_type": "code",
   "execution_count": 162,
   "id": "d52016e8-7d28-476e-94e1-b1632a70cf03",
   "metadata": {},
   "outputs": [],
   "source": [
    "# Imports\n",
    "import numpy as np\n",
    "import pandas as pd\n",
    "import pyodbc\n",
    "from sklearn.feature_selection import chi2\n",
    "from sklearn.preprocessing import OneHotEncoder\n",
    "from sklearn.model_selection import train_test_split\n",
    "from sklearn.ensemble import RandomForestClassifier\n",
    "from sklearn.metrics import confusion_matrix\n",
    "\n",
    "\n",
    "import matplotlib.pyplot as plt"
   ]
  },
  {
   "cell_type": "code",
   "execution_count": 160,
   "id": "dad7c912-89cb-4838-b523-8212b712fdc1",
   "metadata": {},
   "outputs": [],
   "source": [
    "# Dataset Columns\n",
    "data_cols = [ 'POSTED_SPEED_LIMIT',      'TRAFFICWAY_TYPE',             'CRASH_DAY_OF_WEEK'\n",
    "             ,'TRAFFIC_CONTROL_DEVICE',  'ROADWAY_SURFACE_COND',        'CRASH_MONTH'\n",
    "             ,'DEVICE_CONDITION',        'HIT_AND_RUN_I',               'ZIP_CODE_GROUP'\n",
    "             ,'WEATHER_CONDITION',       'PRIM_CONTRIBUTORY_CAUSE',     'NUM_UNITS'\n",
    "             ,'LIGHTING_CONDITION',      'SEC_CONTRIBUTORY_CAUSE',      'FIRST_CRASH_TYPE'\n",
    "             ,'CRASH_HOUR_PERIOD']\n",
    "\n",
    "\n",
    "\n",
    "data_cols = [ 'POSTED_SPEED_LIMIT',      'TRAFFICWAY_TYPE',             'CRASH_DAY_OF_WEEK'\n",
    "             ,  'ROADWAY_SURFACE_COND',        'CRASH_MONTH'\n",
    "             ,                  'ZIP_CODE_GROUP'\n",
    "             ,'WEATHER_CONDITION'\n",
    "             ,'LIGHTING_CONDITION'\n",
    "             ,'CRASH_HOUR_PERIOD']\n",
    "\n",
    "\n",
    "response_cols = ['CRASH_TYPE', 'DAMAGE', 'INJURY_CLASS', 'INJURIES_TOTAL']\n",
    "\n",
    "all_cols = data_cols + response_cols"
   ]
  },
  {
   "cell_type": "code",
   "execution_count": 111,
   "id": "09d46144-288e-4f0d-81d9-d79f53b5013b",
   "metadata": {},
   "outputs": [
    {
     "data": {
      "text/plain": [
       "POSTED_SPEED_LIMIT      object\n",
       "TRAFFICWAY_TYPE         object\n",
       "CRASH_DAY_OF_WEEK       object\n",
       "ROADWAY_SURFACE_COND    object\n",
       "CRASH_MONTH             object\n",
       "ZIP_CODE_GROUP          object\n",
       "WEATHER_CONDITION       object\n",
       "LIGHTING_CONDITION      object\n",
       "CRASH_HOUR_PERIOD       object\n",
       "dtype: object"
      ]
     },
     "execution_count": 111,
     "metadata": {},
     "output_type": "execute_result"
    }
   ],
   "source": [
    "file_name = r'V:\\_temp_ds\\cda-project\\03_Dataset - EDA\\Desouky\\crashes-cleaned-final.csv'\n",
    "rows = pd.read_csv(file_name)"
   ]
  },
  {
   "cell_type": "code",
   "execution_count": 161,
   "id": "f4aa9245-82dd-4c3d-a145-6716e84ccfaf",
   "metadata": {},
   "outputs": [
    {
     "name": "stdout",
     "output_type": "stream",
     "text": [
      "Model accuracy using selected features: 0.73\n"
     ]
    },
    {
     "data": {
      "text/plain": [
       "array([[     0,  43667],\n",
       "       [     0, 119902]], dtype=int64)"
      ]
     },
     "execution_count": 161,
     "metadata": {},
     "output_type": "execute_result"
    }
   ],
   "source": [
    "# Database connection details\n",
    "server = 'localhost'\n",
    "database = '[chicago-crashes]'\n",
    "username = 'sa'\n",
    "password = 'zeft'\n",
    "\n",
    "# Establish a connection\n",
    "conn = pyodbc.connect(\n",
    "    f\"DRIVER={{ODBC Driver 17 for SQL Server}};SERVER={server};Initial Catalog={database};UID={username};PWD={password};TrustServerCertificate=yes\"\n",
    "    # \"DRIVER={ODBC Driver 17 for SQL Server};Server=127.0.0.1;Initial Catalog=[chicago-crashes];UID=sa;PWD=zeft;TrustServerCertificate=Yes\"\n",
    ")\n",
    "\n",
    "# SQL query to retrieve data\n",
    "query = \"\"\"\n",
    "SELECT \"\"\" + ','.join(all_cols) + \"\"\"\n",
    "FROM [chicago-crashes].[dbo].[crashes-cleaned-final]\n",
    "\"\"\"\n",
    "\n",
    "# Execute the query\n",
    "cursor = conn.cursor()\n",
    "cursor.execute(query)\n",
    "\n",
    "# # Fetch all rows\n",
    "rows = cursor.fetchall()\n",
    "\n",
    "# Create a DataFrame from the retrieved data\n",
    "data = pd.DataFrame(np.array(rows), columns=all_cols)\n",
    "\n",
    "# Extract categorical columns\n",
    "cat_columns = data_cols\n",
    "\n",
    "# One-hot encode categorical data\n",
    "ohe = OneHotEncoder()\n",
    "onehot_data = ohe.fit_transform(data[cat_columns])\n",
    "onehot_df = pd.DataFrame(onehot_data.toarray(), columns=ohe.get_feature_names_out(cat_columns))\n",
    "\n",
    "# Evaluate feature importance using chi-squared\n",
    "chi2_scores, _ = chi2(onehot_data, data[response_cols[0]])\n",
    "\n",
    "# Select features based on scores (e.g., top-k features)\n",
    "k = 10\n",
    "selected_features = [f for f, _ in sorted(zip(cat_columns, chi2_scores), key=lambda x: x[1], reverse=True)[:k]]\n",
    "\n",
    "d = {item: idx for idx, item in enumerate(data.columns)}\n",
    "selected_feature_indices = [d.get(item) for item in selected_features]\n",
    "\n",
    "# Build a model using selected features\n",
    "X_train, X_test, y_train, y_test = train_test_split(onehot_data, data[response_cols[0]], test_size=0.2, random_state=42)\n",
    "model = RandomForestClassifier()\n",
    "model.fit(X_train[:, selected_feature_indices], y_train)\n",
    "\n",
    "# Evaluate model performance\n",
    "accuracy = model.score(X_test[:, selected_feature_indices], y_test)\n",
    "print(f\"Model accuracy using selected features: {accuracy:.2f}\")\n",
    "\n",
    "y_pred = model.predict(X_test[:, selected_feature_indices])\n",
    "\n",
    "confusion_matrix(y_test, y_pred)"
   ]
  },
  {
   "cell_type": "code",
   "execution_count": 102,
   "id": "1a8c55d1-dee9-42fe-ab8e-3d3f890eb6c0",
   "metadata": {},
   "outputs": [
    {
     "data": {
      "text/plain": [
       "['CRASH_DAY_OF_WEEK',\n",
       " 'WEATHER_CONDITION',\n",
       " 'POSTED_SPEED_LIMIT',\n",
       " 'TRAFFICWAY_TYPE',\n",
       " 'LIGHTING_CONDITION',\n",
       " 'ZIP_CODE_GROUP',\n",
       " 'CRASH_MONTH',\n",
       " 'CRASH_HOUR_PERIOD',\n",
       " 'ROADWAY_SURFACE_COND']"
      ]
     },
     "execution_count": 102,
     "metadata": {},
     "output_type": "execute_result"
    }
   ],
   "source": [
    "# Evaluate feature importance using chi-squared\n",
    "chi2_scores, _ = chi2(onehot_data, data[response_cols[0]])\n",
    "\n",
    "k = 20\n",
    "selected_features = [f for f, _ in sorted(zip(cat_columns, chi2_scores), key=lambda x: x[1], reverse=True)[:k]]\n",
    "\n",
    "selected_features"
   ]
  },
  {
   "cell_type": "code",
   "execution_count": null,
   "id": "c058b9bb-c000-4fa3-ab6f-869d526a44b1",
   "metadata": {},
   "outputs": [],
   "source": []
  }
 ],
 "metadata": {
  "kernelspec": {
   "display_name": "Python 3 (ipykernel)",
   "language": "python",
   "name": "python3"
  },
  "language_info": {
   "codemirror_mode": {
    "name": "ipython",
    "version": 3
   },
   "file_extension": ".py",
   "mimetype": "text/x-python",
   "name": "python",
   "nbconvert_exporter": "python",
   "pygments_lexer": "ipython3",
   "version": "3.12.2"
  }
 },
 "nbformat": 4,
 "nbformat_minor": 5
}
